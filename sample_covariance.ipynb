{
 "cells": [
  {
   "cell_type": "markdown",
   "source": [
    "# Three ways of calculating sample covariance"
   ],
   "metadata": {}
  },
  {
   "cell_type": "code",
   "execution_count": 229,
   "source": [
    "import numpy as np"
   ],
   "outputs": [],
   "metadata": {}
  },
  {
   "cell_type": "code",
   "execution_count": 263,
   "source": [
    "# col vectors\n",
    "x1=np.array([8,4,7])\n",
    "x2=np.array([2,8,1])\n",
    "x3=np.array([3,1,1])\n",
    "x4=np.array([9,7,4])\n",
    "x=np.array([x1,x2,x3,x4]).T\n",
    "N=x.shape[1]\n",
    "x"
   ],
   "outputs": [
    {
     "output_type": "execute_result",
     "data": {
      "text/plain": [
       "array([[8, 2, 3, 9],\n",
       "       [4, 8, 1, 7],\n",
       "       [7, 1, 1, 4]])"
      ]
     },
     "metadata": {},
     "execution_count": 263
    }
   ],
   "metadata": {}
  },
  {
   "cell_type": "markdown",
   "source": [
    "# Type 1 - numpy library"
   ],
   "metadata": {}
  },
  {
   "cell_type": "code",
   "execution_count": 264,
   "source": [
    "np.cov(x, bias=True)"
   ],
   "outputs": [
    {
     "output_type": "execute_result",
     "data": {
      "text/plain": [
       "array([[9.25  , 1.    , 6.375 ],\n",
       "       [1.    , 7.5   , 0.    ],\n",
       "       [6.375 , 0.    , 6.1875]])"
      ]
     },
     "metadata": {},
     "execution_count": 264
    }
   ],
   "metadata": {}
  },
  {
   "cell_type": "markdown",
   "source": [
    "# Type 2 - for loop (sum)"
   ],
   "metadata": {}
  },
  {
   "cell_type": "code",
   "execution_count": 265,
   "source": [
    "# sample mean (accross cols)\n",
    "x_bar=x.mean(axis=1)\n",
    "x_bar"
   ],
   "outputs": [
    {
     "output_type": "execute_result",
     "data": {
      "text/plain": [
       "array([5.5 , 5.  , 3.25])"
      ]
     },
     "metadata": {},
     "execution_count": 265
    }
   ],
   "metadata": {}
  },
  {
   "cell_type": "code",
   "execution_count": 276,
   "source": [
    "def cov_iter( x ):\n",
    "    print(x)\n",
    "    m=x-x_bar\n",
    "    return np.outer(m,m) # Outer vector product\n",
    "\n",
    "result=np.apply_along_axis(cov_iter, axis=0, arr=x)\n",
    "result"
   ],
   "outputs": [
    {
     "output_type": "stream",
     "name": "stdout",
     "text": [
      "[8 4 7]\n",
      "[2 8 1]\n",
      "[3 1 1]\n",
      "[9 7 4]\n"
     ]
    },
    {
     "output_type": "execute_result",
     "data": {
      "text/plain": [
       "array([[[  6.25  ,  12.25  ,   6.25  ,  12.25  ],\n",
       "        [ -2.5   , -10.5   ,  10.    ,   7.    ],\n",
       "        [  9.375 ,   7.875 ,   5.625 ,   2.625 ]],\n",
       "\n",
       "       [[ -2.5   , -10.5   ,  10.    ,   7.    ],\n",
       "        [  1.    ,   9.    ,  16.    ,   4.    ],\n",
       "        [ -3.75  ,  -6.75  ,   9.    ,   1.5   ]],\n",
       "\n",
       "       [[  9.375 ,   7.875 ,   5.625 ,   2.625 ],\n",
       "        [ -3.75  ,  -6.75  ,   9.    ,   1.5   ],\n",
       "        [ 14.0625,   5.0625,   5.0625,   0.5625]]])"
      ]
     },
     "metadata": {},
     "execution_count": 276
    }
   ],
   "metadata": {}
  },
  {
   "cell_type": "code",
   "execution_count": 269,
   "source": [
    "result.sum(axis=2)/N"
   ],
   "outputs": [
    {
     "output_type": "execute_result",
     "data": {
      "text/plain": [
       "array([[9.25  , 1.    , 6.375 ],\n",
       "       [1.    , 7.5   , 0.    ],\n",
       "       [6.375 , 0.    , 6.1875]])"
      ]
     },
     "metadata": {},
     "execution_count": 269
    }
   ],
   "metadata": {}
  },
  {
   "cell_type": "markdown",
   "source": [
    "# Type 3 - Matrix operation"
   ],
   "metadata": {}
  },
  {
   "cell_type": "code",
   "execution_count": 271,
   "source": [
    "ones=np.ones(N)\n",
    "X=x.T\n",
    "X"
   ],
   "outputs": [
    {
     "output_type": "execute_result",
     "data": {
      "text/plain": [
       "array([[8, 4, 7],\n",
       "       [2, 8, 1],\n",
       "       [3, 1, 1],\n",
       "       [9, 7, 4]])"
      ]
     },
     "metadata": {},
     "execution_count": 271
    }
   ],
   "metadata": {}
  },
  {
   "cell_type": "code",
   "execution_count": 272,
   "source": [
    "X.T@X/N-X.T@np.outer(ones,ones)@X/N/N"
   ],
   "outputs": [
    {
     "output_type": "execute_result",
     "data": {
      "text/plain": [
       "array([[9.25  , 1.    , 6.375 ],\n",
       "       [1.    , 7.5   , 0.    ],\n",
       "       [6.375 , 0.    , 6.1875]])"
      ]
     },
     "metadata": {},
     "execution_count": 272
    }
   ],
   "metadata": {}
  },
  {
   "cell_type": "code",
   "execution_count": null,
   "source": [],
   "outputs": [],
   "metadata": {}
  }
 ],
 "metadata": {
  "orig_nbformat": 4,
  "language_info": {
   "name": "python",
   "version": "3.6.9",
   "mimetype": "text/x-python",
   "codemirror_mode": {
    "name": "ipython",
    "version": 3
   },
   "pygments_lexer": "ipython3",
   "nbconvert_exporter": "python",
   "file_extension": ".py"
  },
  "kernelspec": {
   "name": "python3",
   "display_name": "Python 3.6.9 64-bit ('py3env': virtualenv)"
  },
  "interpreter": {
   "hash": "d951d91dac32856fed26b4dbfdd2d46f0c08fbecda82715332b7645216b89831"
  }
 },
 "nbformat": 4,
 "nbformat_minor": 2
}
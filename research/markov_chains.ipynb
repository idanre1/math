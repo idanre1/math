{
 "cells": [
  {
   "cell_type": "code",
   "execution_count": 5,
   "source": [
    "import math\n",
    "import numpy as np\n",
    "mu=1/3\n",
    "lmb=30.0"
   ],
   "outputs": [],
   "metadata": {}
  },
  {
   "cell_type": "code",
   "execution_count": 24,
   "source": [
    "N=106\n",
    "pi0=1/sum([lmb**float(i)/(mu**float(i)*math.factorial(i)) for i in range(N+1)])\n",
    "pi_i=pi0*lmb**N/(mu**N*math.factorial(N))\n",
    "pi_i"
   ],
   "outputs": [
    {
     "output_type": "execute_result",
     "data": {
      "text/plain": [
       "0.010554024429347952"
      ]
     },
     "metadata": {},
     "execution_count": 24
    }
   ],
   "metadata": {}
  },
  {
   "cell_type": "code",
   "execution_count": null,
   "source": [],
   "outputs": [],
   "metadata": {}
  }
 ],
 "metadata": {
  "orig_nbformat": 4,
  "language_info": {
   "name": "python",
   "version": "3.6.9",
   "mimetype": "text/x-python",
   "codemirror_mode": {
    "name": "ipython",
    "version": 3
   },
   "pygments_lexer": "ipython3",
   "nbconvert_exporter": "python",
   "file_extension": ".py"
  },
  "kernelspec": {
   "name": "python3",
   "display_name": "Python 3.6.9 64-bit ('py3env': virtualenv)"
  },
  "interpreter": {
   "hash": "d951d91dac32856fed26b4dbfdd2d46f0c08fbecda82715332b7645216b89831"
  }
 },
 "nbformat": 4,
 "nbformat_minor": 2
}